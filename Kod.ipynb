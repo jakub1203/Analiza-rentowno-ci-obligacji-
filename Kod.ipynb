{
 "cells": [
  {
   "cell_type": "code",
   "execution_count": 194,
   "id": "c50ada9e",
   "metadata": {},
   "outputs": [],
   "source": [
    "import matplotlib.pyplot as plt\n",
    "import numpy as np\n",
    "import pandas as pd\n",
    "import datetime\n",
    "import calendar\n",
    "import math\n",
    "import matplotlib.pyplot as plt\n",
    "import numpy as np\n",
    "from math import ceil"
   ]
  },
  {
   "cell_type": "code",
   "execution_count": 197,
   "id": "7a5a3089",
   "metadata": {},
   "outputs": [
    {
     "data": {
      "text/html": [
       "<div>\n",
       "<style scoped>\n",
       "    .dataframe tbody tr th:only-of-type {\n",
       "        vertical-align: middle;\n",
       "    }\n",
       "\n",
       "    .dataframe tbody tr th {\n",
       "        vertical-align: top;\n",
       "    }\n",
       "\n",
       "    .dataframe thead th {\n",
       "        text-align: right;\n",
       "    }\n",
       "</style>\n",
       "<table border=\"1\" class=\"dataframe\">\n",
       "  <thead>\n",
       "    <tr style=\"text-align: right;\">\n",
       "      <th></th>\n",
       "      <th>Nazwa</th>\n",
       "      <th>Wartość nominału</th>\n",
       "      <th>Data wykupu</th>\n",
       "      <th>Oprocentowanie</th>\n",
       "      <th>kupon</th>\n",
       "      <th>wartosc rynkowa</th>\n",
       "      <th>Data zakupu</th>\n",
       "      <th>Data ostatniego kuponu</th>\n",
       "    </tr>\n",
       "  </thead>\n",
       "  <tbody>\n",
       "    <tr>\n",
       "      <th>0</th>\n",
       "      <td>ECH1024</td>\n",
       "      <td>1000</td>\n",
       "      <td>2024-10-23</td>\n",
       "      <td>0.04500</td>\n",
       "      <td>2</td>\n",
       "      <td>1.0000</td>\n",
       "      <td>2022-12-01</td>\n",
       "      <td>2022-10-23</td>\n",
       "    </tr>\n",
       "    <tr>\n",
       "      <th>1</th>\n",
       "      <td>MBHPE11</td>\n",
       "      <td>1000</td>\n",
       "      <td>2025-04-24</td>\n",
       "      <td>0.01285</td>\n",
       "      <td>1</td>\n",
       "      <td>1.0000</td>\n",
       "      <td>2022-12-01</td>\n",
       "      <td>2022-04-24</td>\n",
       "    </tr>\n",
       "    <tr>\n",
       "      <th>2</th>\n",
       "      <td>EUR0126</td>\n",
       "      <td>1000</td>\n",
       "      <td>2026-01-19</td>\n",
       "      <td>0.01500</td>\n",
       "      <td>1</td>\n",
       "      <td>1.0300</td>\n",
       "      <td>2022-12-01</td>\n",
       "      <td>2022-01-19</td>\n",
       "    </tr>\n",
       "    <tr>\n",
       "      <th>3</th>\n",
       "      <td>EUR1027</td>\n",
       "      <td>1000</td>\n",
       "      <td>2027-10-22</td>\n",
       "      <td>0.01375</td>\n",
       "      <td>1</td>\n",
       "      <td>0.9907</td>\n",
       "      <td>2022-12-01</td>\n",
       "      <td>2022-10-22</td>\n",
       "    </tr>\n",
       "    <tr>\n",
       "      <th>4</th>\n",
       "      <td>EUR1028</td>\n",
       "      <td>1000</td>\n",
       "      <td>2028-10-25</td>\n",
       "      <td>0.01000</td>\n",
       "      <td>1</td>\n",
       "      <td>1.0650</td>\n",
       "      <td>2022-12-01</td>\n",
       "      <td>2022-10-25</td>\n",
       "    </tr>\n",
       "  </tbody>\n",
       "</table>\n",
       "</div>"
      ],
      "text/plain": [
       "     Nazwa  Wartość nominału Data wykupu  Oprocentowanie   kupon  \\\n",
       "0  ECH1024              1000  2024-10-23          0.04500      2   \n",
       "1  MBHPE11              1000  2025-04-24          0.01285      1   \n",
       "2  EUR0126              1000  2026-01-19          0.01500      1   \n",
       "3  EUR1027              1000  2027-10-22          0.01375      1   \n",
       "4  EUR1028              1000  2028-10-25          0.01000      1   \n",
       "\n",
       "   wartosc rynkowa  Data zakupu Data ostatniego kuponu  \n",
       "0            1.0000  2022-12-01             2022-10-23  \n",
       "1            1.0000  2022-12-01             2022-04-24  \n",
       "2            1.0300  2022-12-01             2022-01-19  \n",
       "3            0.9907  2022-12-01             2022-10-22  \n",
       "4            1.0650  2022-12-01             2022-10-25  "
      ]
     },
     "execution_count": 197,
     "metadata": {},
     "output_type": "execute_result"
    }
   ],
   "source": [
    "df = pd.read_excel(\"obligacje-dane.xlsx\") \n",
    "df"
   ]
  },
  {
   "cell_type": "markdown",
   "id": "42e9e118",
   "metadata": {},
   "source": [
    "Dodanie liczby dni od ostatniego kuponu"
   ]
  },
  {
   "cell_type": "code",
   "execution_count": 198,
   "id": "d6b2c72d",
   "metadata": {},
   "outputs": [],
   "source": [
    "df[\"liczba dni\"] = (df[\"Data zakupu\"] - df[\"Data ostatniego kuponu\"]).dt.days"
   ]
  },
  {
   "cell_type": "code",
   "execution_count": 199,
   "id": "766cb1a7",
   "metadata": {},
   "outputs": [],
   "source": [
    "df[\"cena czysta\"] = df[\"Wartość nominału\"] * df[\"wartosc rynkowa \"]"
   ]
  },
  {
   "cell_type": "code",
   "execution_count": 201,
   "id": "69268c89",
   "metadata": {},
   "outputs": [],
   "source": [
    "df[\"wartosc kuponu\"] = df[\"Wartość nominału\"] * df[\"Oprocentowanie \"]/df[\"kupon\"]"
   ]
  },
  {
   "cell_type": "code",
   "execution_count": 202,
   "id": "1a374604",
   "metadata": {},
   "outputs": [],
   "source": [
    "df[\"cena brudna\"] = df[\"cena czysta\"] + ((df[\"liczba dni\"] + 4) / 365) * df[\"wartosc kuponu\"]"
   ]
  },
  {
   "cell_type": "code",
   "execution_count": 203,
   "id": "072a4344",
   "metadata": {},
   "outputs": [],
   "source": [
    "df[\"czas zycia\"] = (df[\"Data wykupu\"] - df[\"Data zakupu\"]).dt.days/365"
   ]
  },
  {
   "cell_type": "code",
   "execution_count": 210,
   "id": "c4db1c3b",
   "metadata": {},
   "outputs": [],
   "source": [
    "df[\"liczba_kuponow\"] = df[\"czas zycia\"].apply(ceil) * df[\"kupon\"]"
   ]
  },
  {
   "cell_type": "code",
   "execution_count": 205,
   "id": "c9b7bd67",
   "metadata": {},
   "outputs": [],
   "source": [
    "df[\"cena czysta\"] = df[\"Wartość nominału\"] * df[\"wartosc rynkowa \"]"
   ]
  },
  {
   "cell_type": "code",
   "execution_count": 206,
   "id": "99c5f988",
   "metadata": {},
   "outputs": [
    {
     "data": {
      "text/html": [
       "<div>\n",
       "<style scoped>\n",
       "    .dataframe tbody tr th:only-of-type {\n",
       "        vertical-align: middle;\n",
       "    }\n",
       "\n",
       "    .dataframe tbody tr th {\n",
       "        vertical-align: top;\n",
       "    }\n",
       "\n",
       "    .dataframe thead th {\n",
       "        text-align: right;\n",
       "    }\n",
       "</style>\n",
       "<table border=\"1\" class=\"dataframe\">\n",
       "  <thead>\n",
       "    <tr style=\"text-align: right;\">\n",
       "      <th></th>\n",
       "      <th>Nazwa</th>\n",
       "      <th>Wartość nominału</th>\n",
       "      <th>Data wykupu</th>\n",
       "      <th>Oprocentowanie</th>\n",
       "      <th>kupon</th>\n",
       "      <th>wartosc rynkowa</th>\n",
       "      <th>Data zakupu</th>\n",
       "      <th>Data ostatniego kuponu</th>\n",
       "      <th>liczba dni</th>\n",
       "      <th>cena czysta</th>\n",
       "      <th>wartosc kuponu</th>\n",
       "      <th>cena brudna</th>\n",
       "      <th>czas zycia</th>\n",
       "      <th>liczba_kuponow</th>\n",
       "    </tr>\n",
       "  </thead>\n",
       "  <tbody>\n",
       "    <tr>\n",
       "      <th>0</th>\n",
       "      <td>ECH1024</td>\n",
       "      <td>1000</td>\n",
       "      <td>2024-10-23</td>\n",
       "      <td>0.04500</td>\n",
       "      <td>2</td>\n",
       "      <td>1.0000</td>\n",
       "      <td>2022-12-01</td>\n",
       "      <td>2022-10-23</td>\n",
       "      <td>39</td>\n",
       "      <td>1000.0</td>\n",
       "      <td>22.50</td>\n",
       "      <td>1002.650685</td>\n",
       "      <td>1.895890</td>\n",
       "      <td>4</td>\n",
       "    </tr>\n",
       "    <tr>\n",
       "      <th>1</th>\n",
       "      <td>MBHPE11</td>\n",
       "      <td>1000</td>\n",
       "      <td>2025-04-24</td>\n",
       "      <td>0.01285</td>\n",
       "      <td>1</td>\n",
       "      <td>1.0000</td>\n",
       "      <td>2022-12-01</td>\n",
       "      <td>2022-04-24</td>\n",
       "      <td>221</td>\n",
       "      <td>1000.0</td>\n",
       "      <td>12.85</td>\n",
       "      <td>1007.921233</td>\n",
       "      <td>2.397260</td>\n",
       "      <td>3</td>\n",
       "    </tr>\n",
       "    <tr>\n",
       "      <th>2</th>\n",
       "      <td>EUR0126</td>\n",
       "      <td>1000</td>\n",
       "      <td>2026-01-19</td>\n",
       "      <td>0.01500</td>\n",
       "      <td>1</td>\n",
       "      <td>1.0300</td>\n",
       "      <td>2022-12-01</td>\n",
       "      <td>2022-01-19</td>\n",
       "      <td>316</td>\n",
       "      <td>1030.0</td>\n",
       "      <td>15.00</td>\n",
       "      <td>1043.150685</td>\n",
       "      <td>3.136986</td>\n",
       "      <td>4</td>\n",
       "    </tr>\n",
       "    <tr>\n",
       "      <th>3</th>\n",
       "      <td>EUR1027</td>\n",
       "      <td>1000</td>\n",
       "      <td>2027-10-22</td>\n",
       "      <td>0.01375</td>\n",
       "      <td>1</td>\n",
       "      <td>0.9907</td>\n",
       "      <td>2022-12-01</td>\n",
       "      <td>2022-10-22</td>\n",
       "      <td>40</td>\n",
       "      <td>990.7</td>\n",
       "      <td>13.75</td>\n",
       "      <td>992.357534</td>\n",
       "      <td>4.893151</td>\n",
       "      <td>5</td>\n",
       "    </tr>\n",
       "    <tr>\n",
       "      <th>4</th>\n",
       "      <td>EUR1028</td>\n",
       "      <td>1000</td>\n",
       "      <td>2028-10-25</td>\n",
       "      <td>0.01000</td>\n",
       "      <td>1</td>\n",
       "      <td>1.0650</td>\n",
       "      <td>2022-12-01</td>\n",
       "      <td>2022-10-25</td>\n",
       "      <td>37</td>\n",
       "      <td>1065.0</td>\n",
       "      <td>10.00</td>\n",
       "      <td>1066.123288</td>\n",
       "      <td>5.904110</td>\n",
       "      <td>6</td>\n",
       "    </tr>\n",
       "  </tbody>\n",
       "</table>\n",
       "</div>"
      ],
      "text/plain": [
       "     Nazwa  Wartość nominału Data wykupu  Oprocentowanie   kupon  \\\n",
       "0  ECH1024              1000  2024-10-23          0.04500      2   \n",
       "1  MBHPE11              1000  2025-04-24          0.01285      1   \n",
       "2  EUR0126              1000  2026-01-19          0.01500      1   \n",
       "3  EUR1027              1000  2027-10-22          0.01375      1   \n",
       "4  EUR1028              1000  2028-10-25          0.01000      1   \n",
       "\n",
       "   wartosc rynkowa  Data zakupu Data ostatniego kuponu  liczba dni  \\\n",
       "0            1.0000  2022-12-01             2022-10-23          39   \n",
       "1            1.0000  2022-12-01             2022-04-24         221   \n",
       "2            1.0300  2022-12-01             2022-01-19         316   \n",
       "3            0.9907  2022-12-01             2022-10-22          40   \n",
       "4            1.0650  2022-12-01             2022-10-25          37   \n",
       "\n",
       "   cena czysta  wartosc kuponu  cena brudna  czas zycia  liczba_kuponow  \n",
       "0       1000.0           22.50  1002.650685    1.895890               4  \n",
       "1       1000.0           12.85  1007.921233    2.397260               3  \n",
       "2       1030.0           15.00  1043.150685    3.136986               4  \n",
       "3        990.7           13.75   992.357534    4.893151               5  \n",
       "4       1065.0           10.00  1066.123288    5.904110               6  "
      ]
     },
     "execution_count": 206,
     "metadata": {},
     "output_type": "execute_result"
    }
   ],
   "source": [
    "df"
   ]
  },
  {
   "cell_type": "markdown",
   "id": "72795f3a",
   "metadata": {},
   "source": [
    "# EFEKTYWNA STOPA ZWROTU"
   ]
  },
  {
   "cell_type": "code",
   "execution_count": 212,
   "id": "8c5ec9a1",
   "metadata": {},
   "outputs": [],
   "source": [
    "def fx(x):\n",
    "    \n",
    "    tn = tn1 \n",
    "    suma = 0\n",
    "    for i in range(ilosc_kuponow):\n",
    "        suma += wartosc_kuponu*pow(1+x,i)\n",
    "    suma = (suma-P*pow(1+x,tn)+cena_nominalna)\n",
    "    return suma"
   ]
  },
  {
   "cell_type": "code",
   "execution_count": 213,
   "id": "600b4548",
   "metadata": {},
   "outputs": [],
   "source": [
    "def bis(fx,a,b,err):\n",
    "    while np.absolute(b-a)>err:\n",
    "        midPoint=(a+b)*0.5\n",
    "        if fx(midPoint)*fx(a)<0:\n",
    "            b=midPoint\n",
    "        midPoint=(a+b)*0.5\n",
    "        if fx(midPoint)*fx(b)<0:\n",
    "            a=midPoint\n",
    "    return b-(b-a)*fx(b)/(fx(b)-fx(a))\n",
    "\n",
    "    if metoda==2:#bisekcja\n",
    "        i=1\n",
    "        a=int(input(\"Podaj pierwszy kraniec przedziału: \"))\n",
    "        b=int(input(\"Podaj drugi kraniec przedziału: \"))\n",
    "    while i<n:\n",
    "        err=0.0001\n",
    "    print(\"x= \",bis(fx,a,b,err))\n",
    "    i=i+1"
   ]
  },
  {
   "cell_type": "code",
   "execution_count": 214,
   "id": "a1196791",
   "metadata": {},
   "outputs": [],
   "source": [
    "r_list = []\n",
    "for i in range(0, 5):\n",
    "    ilosc_kuponow = df[\"liczba_kuponow\"][i]\n",
    "    P = df[\"cena brudna\"][i] * 1.019              \n",
    "    wartosc_kuponu = df[\"wartosc kuponu\"][i]\n",
    "    cena_nominalna = df[\"Wartość nominału\"][i]\n",
    "    tn1 = df[\"czas zycia\"][i]\n",
    "    kupon = df[\"kupon\"][i]    \n",
    "    r = bis(fx, -1, 1, 0.001)\n",
    "    r_list.append(r)"
   ]
  },
  {
   "cell_type": "code",
   "execution_count": 215,
   "id": "441d8a26",
   "metadata": {},
   "outputs": [
    {
     "data": {
      "text/html": [
       "<div>\n",
       "<style scoped>\n",
       "    .dataframe tbody tr th:only-of-type {\n",
       "        vertical-align: middle;\n",
       "    }\n",
       "\n",
       "    .dataframe tbody tr th {\n",
       "        vertical-align: top;\n",
       "    }\n",
       "\n",
       "    .dataframe thead th {\n",
       "        text-align: right;\n",
       "    }\n",
       "</style>\n",
       "<table border=\"1\" class=\"dataframe\">\n",
       "  <thead>\n",
       "    <tr style=\"text-align: right;\">\n",
       "      <th></th>\n",
       "      <th>Nazwa</th>\n",
       "      <th>Wartość nominału</th>\n",
       "      <th>Data wykupu</th>\n",
       "      <th>Oprocentowanie</th>\n",
       "      <th>kupon</th>\n",
       "      <th>wartosc rynkowa</th>\n",
       "      <th>Data zakupu</th>\n",
       "      <th>Data ostatniego kuponu</th>\n",
       "      <th>liczba dni</th>\n",
       "      <th>cena czysta</th>\n",
       "      <th>wartosc kuponu</th>\n",
       "      <th>cena brudna</th>\n",
       "      <th>czas zycia</th>\n",
       "      <th>liczba_kuponow</th>\n",
       "      <th>liczba kuponow</th>\n",
       "      <th>R</th>\n",
       "    </tr>\n",
       "  </thead>\n",
       "  <tbody>\n",
       "    <tr>\n",
       "      <th>0</th>\n",
       "      <td>ECH1024</td>\n",
       "      <td>1000</td>\n",
       "      <td>2024-10-23</td>\n",
       "      <td>0.04500</td>\n",
       "      <td>2</td>\n",
       "      <td>1.0000</td>\n",
       "      <td>2022-12-01</td>\n",
       "      <td>2022-10-23</td>\n",
       "      <td>39</td>\n",
       "      <td>1000.0</td>\n",
       "      <td>22.50</td>\n",
       "      <td>1002.650685</td>\n",
       "      <td>1.895890</td>\n",
       "      <td>4</td>\n",
       "      <td>4</td>\n",
       "      <td>0.037302</td>\n",
       "    </tr>\n",
       "    <tr>\n",
       "      <th>1</th>\n",
       "      <td>MBHPE11</td>\n",
       "      <td>1000</td>\n",
       "      <td>2025-04-24</td>\n",
       "      <td>0.01285</td>\n",
       "      <td>1</td>\n",
       "      <td>1.0000</td>\n",
       "      <td>2022-12-01</td>\n",
       "      <td>2022-04-24</td>\n",
       "      <td>221</td>\n",
       "      <td>1000.0</td>\n",
       "      <td>12.85</td>\n",
       "      <td>1007.921233</td>\n",
       "      <td>2.397260</td>\n",
       "      <td>3</td>\n",
       "      <td>3</td>\n",
       "      <td>0.004720</td>\n",
       "    </tr>\n",
       "    <tr>\n",
       "      <th>2</th>\n",
       "      <td>EUR0126</td>\n",
       "      <td>1000</td>\n",
       "      <td>2026-01-19</td>\n",
       "      <td>0.01500</td>\n",
       "      <td>1</td>\n",
       "      <td>1.0300</td>\n",
       "      <td>2022-12-01</td>\n",
       "      <td>2022-01-19</td>\n",
       "      <td>316</td>\n",
       "      <td>1030.0</td>\n",
       "      <td>15.00</td>\n",
       "      <td>1043.150685</td>\n",
       "      <td>3.136986</td>\n",
       "      <td>4</td>\n",
       "      <td>4</td>\n",
       "      <td>-0.000917</td>\n",
       "    </tr>\n",
       "    <tr>\n",
       "      <th>3</th>\n",
       "      <td>EUR1027</td>\n",
       "      <td>1000</td>\n",
       "      <td>2027-10-22</td>\n",
       "      <td>0.01375</td>\n",
       "      <td>1</td>\n",
       "      <td>0.9907</td>\n",
       "      <td>2022-12-01</td>\n",
       "      <td>2022-10-22</td>\n",
       "      <td>40</td>\n",
       "      <td>990.7</td>\n",
       "      <td>13.75</td>\n",
       "      <td>992.357534</td>\n",
       "      <td>4.893151</td>\n",
       "      <td>5</td>\n",
       "      <td>5</td>\n",
       "      <td>0.011688</td>\n",
       "    </tr>\n",
       "    <tr>\n",
       "      <th>4</th>\n",
       "      <td>EUR1028</td>\n",
       "      <td>1000</td>\n",
       "      <td>2028-10-25</td>\n",
       "      <td>0.01000</td>\n",
       "      <td>1</td>\n",
       "      <td>1.0650</td>\n",
       "      <td>2022-12-01</td>\n",
       "      <td>2022-10-25</td>\n",
       "      <td>37</td>\n",
       "      <td>1065.0</td>\n",
       "      <td>10.00</td>\n",
       "      <td>1066.123288</td>\n",
       "      <td>5.904110</td>\n",
       "      <td>6</td>\n",
       "      <td>6</td>\n",
       "      <td>-0.004256</td>\n",
       "    </tr>\n",
       "  </tbody>\n",
       "</table>\n",
       "</div>"
      ],
      "text/plain": [
       "     Nazwa  Wartość nominału Data wykupu  Oprocentowanie   kupon  \\\n",
       "0  ECH1024              1000  2024-10-23          0.04500      2   \n",
       "1  MBHPE11              1000  2025-04-24          0.01285      1   \n",
       "2  EUR0126              1000  2026-01-19          0.01500      1   \n",
       "3  EUR1027              1000  2027-10-22          0.01375      1   \n",
       "4  EUR1028              1000  2028-10-25          0.01000      1   \n",
       "\n",
       "   wartosc rynkowa  Data zakupu Data ostatniego kuponu  liczba dni  \\\n",
       "0            1.0000  2022-12-01             2022-10-23          39   \n",
       "1            1.0000  2022-12-01             2022-04-24         221   \n",
       "2            1.0300  2022-12-01             2022-01-19         316   \n",
       "3            0.9907  2022-12-01             2022-10-22          40   \n",
       "4            1.0650  2022-12-01             2022-10-25          37   \n",
       "\n",
       "   cena czysta  wartosc kuponu  cena brudna  czas zycia  liczba_kuponow  \\\n",
       "0       1000.0           22.50  1002.650685    1.895890               4   \n",
       "1       1000.0           12.85  1007.921233    2.397260               3   \n",
       "2       1030.0           15.00  1043.150685    3.136986               4   \n",
       "3        990.7           13.75   992.357534    4.893151               5   \n",
       "4       1065.0           10.00  1066.123288    5.904110               6   \n",
       "\n",
       "   liczba kuponow         R  \n",
       "0               4  0.037302  \n",
       "1               3  0.004720  \n",
       "2               4 -0.000917  \n",
       "3               5  0.011688  \n",
       "4               6 -0.004256  "
      ]
     },
     "execution_count": 215,
     "metadata": {},
     "output_type": "execute_result"
    }
   ],
   "source": [
    "df[\"R\"] = r_list\n",
    "df"
   ]
  },
  {
   "cell_type": "markdown",
   "id": "edb75efe",
   "metadata": {},
   "source": [
    "# STRUKTURA TERMINOWA"
   ]
  },
  {
   "cell_type": "code",
   "execution_count": 216,
   "id": "3d005dde",
   "metadata": {},
   "outputs": [
    {
     "data": {
      "text/html": [
       "<div>\n",
       "<style scoped>\n",
       "    .dataframe tbody tr th:only-of-type {\n",
       "        vertical-align: middle;\n",
       "    }\n",
       "\n",
       "    .dataframe tbody tr th {\n",
       "        vertical-align: top;\n",
       "    }\n",
       "\n",
       "    .dataframe thead th {\n",
       "        text-align: right;\n",
       "    }\n",
       "</style>\n",
       "<table border=\"1\" class=\"dataframe\">\n",
       "  <thead>\n",
       "    <tr style=\"text-align: right;\">\n",
       "      <th></th>\n",
       "      <th>t</th>\n",
       "      <th>B</th>\n",
       "    </tr>\n",
       "  </thead>\n",
       "  <tbody>\n",
       "    <tr>\n",
       "      <th>0</th>\n",
       "      <td>0.000000</td>\n",
       "      <td>1.000000</td>\n",
       "    </tr>\n",
       "    <tr>\n",
       "      <th>1</th>\n",
       "      <td>1.895890</td>\n",
       "      <td>0.932922</td>\n",
       "    </tr>\n",
       "    <tr>\n",
       "      <th>2</th>\n",
       "      <td>2.397260</td>\n",
       "      <td>0.988774</td>\n",
       "    </tr>\n",
       "    <tr>\n",
       "      <th>3</th>\n",
       "      <td>3.136986</td>\n",
       "      <td>1.002881</td>\n",
       "    </tr>\n",
       "    <tr>\n",
       "      <th>4</th>\n",
       "      <td>4.893151</td>\n",
       "      <td>0.944727</td>\n",
       "    </tr>\n",
       "    <tr>\n",
       "      <th>5</th>\n",
       "      <td>5.904110</td>\n",
       "      <td>1.025504</td>\n",
       "    </tr>\n",
       "  </tbody>\n",
       "</table>\n",
       "</div>"
      ],
      "text/plain": [
       "          t         B\n",
       "0  0.000000  1.000000\n",
       "1  1.895890  0.932922\n",
       "2  2.397260  0.988774\n",
       "3  3.136986  1.002881\n",
       "4  4.893151  0.944727\n",
       "5  5.904110  1.025504"
      ]
     },
     "execution_count": 216,
     "metadata": {},
     "output_type": "execute_result"
    }
   ],
   "source": [
    "B1 = (1 + df[\"R\"][0])**(-df[\"czas zycia\"][0])\n",
    "B2 = (1 + df[\"R\"][1])**(-df[\"czas zycia\"][1])\n",
    "B3 = (1 + df[\"R\"][2])**(-df[\"czas zycia\"][2])\n",
    "B4 = (1 + df[\"R\"][3])**(-df[\"czas zycia\"][3])\n",
    "B5 = (1 + df[\"R\"][4])**(-df[\"czas zycia\"][4])\n",
    "\n",
    "B = list([1, B1, B2, B3, B4, B5])\n",
    "t = [0, df[\"czas zycia\"][0], df[\"czas zycia\"][1], df[\"czas zycia\"][2], df[\"czas zycia\"][3], df[\"czas zycia\"][4]]\n",
    "\n",
    "df_B = pd.DataFrame(list(zip(t, B)), columns =['t', 'B'])\n",
    "df_B"
   ]
  },
  {
   "cell_type": "markdown",
   "id": "b62963fd",
   "metadata": {},
   "source": [
    "# PRZEDŁUŻENIE I METODA"
   ]
  },
  {
   "cell_type": "code",
   "execution_count": 217,
   "id": "5082f2df",
   "metadata": {},
   "outputs": [],
   "source": [
    "def przedluzenie1(t, t1, t2, b1, b2):\n",
    "    return b1**((t2 - t)/(t2 - t1))*b2**((t - t1)/(t2 - t1))"
   ]
  },
  {
   "cell_type": "code",
   "execution_count": 218,
   "id": "053d73b0",
   "metadata": {},
   "outputs": [],
   "source": [
    "df_B1 = pd.DataFrame(columns =['t', 'B'])"
   ]
  },
  {
   "cell_type": "code",
   "execution_count": 219,
   "id": "b38f1881",
   "metadata": {},
   "outputs": [],
   "source": [
    "for i in range(1, 6):\n",
    "    punkty_t = np.arange(df_B['t'][i-1], df_B['t'][i], 0.001)\n",
    "    B_punkty = przedluzenie1(punkty_t, df_B['t'][i-1], df_B['t'][i], df_B['B'][i-1], df_B['B'][i])\n",
    "    dane = pd.DataFrame(list(zip(punkty_t, B_punkty)), columns =['t', 'B'])\n",
    "    df_B1 = df_B1.append(dane)"
   ]
  },
  {
   "cell_type": "code",
   "execution_count": 225,
   "id": "fe36e43d",
   "metadata": {},
   "outputs": [
    {
     "data": {
      "image/png": "[encoded data removed]",
      "text/plain": [
       "<Figure size 1440x720 with 1 Axes>"
      ]
     },
     "metadata": {
      "needs_background": "light"
     },
     "output_type": "display_data"
    }
   ],
   "source": [
    "fig, ax = plt.subplots(figsize =(20, 10))\n",
    "plt.plot(df_B1['t'], df_B1['B'])\n",
    "plt.xlabel('t')\n",
    "plt.ylabel('B')\n",
    "plt.title('Wykres struktury terminowej')\n",
    "plt.show()"
   ]
  },
  {
   "cell_type": "markdown",
   "id": "71eb7f4f",
   "metadata": {},
   "source": [
    "# PRZEDŁUŻENIE II METODA"
   ]
  },
  {
   "cell_type": "code",
   "execution_count": 221,
   "id": "f8be76f4",
   "metadata": {},
   "outputs": [],
   "source": [
    "def przedluzenie2(t, t1, t2, b1, b2):\n",
    "    return b1 + (b2 - b1) * ((t - t1) / (t2 - t1))"
   ]
  },
  {
   "cell_type": "code",
   "execution_count": 222,
   "id": "2c4e5df1",
   "metadata": {},
   "outputs": [],
   "source": [
    "df_B2 = pd.DataFrame(columns =['t', 'B'])"
   ]
  },
  {
   "cell_type": "code",
   "execution_count": 223,
   "id": "82910e42",
   "metadata": {},
   "outputs": [],
   "source": [
    "for i in range(1, 6):\n",
    "    punkty_t = np.arange(df_B['t'][i-1], df_B['t'][i], 0.001)\n",
    "    B_punkty = przedluzenie2(punkty_t, df_B['t'][i-1], df_B['t'][i], df_B['B'][i-1], df_B['B'][i])\n",
    "    dane = pd.DataFrame(list(zip(punkty_t, B_punkty)), columns =['t', 'B'])\n",
    "    df_B2 = df_B2.append(dane)"
   ]
  },
  {
   "cell_type": "code",
   "execution_count": 226,
   "id": "b96959e8",
   "metadata": {},
   "outputs": [
    {
     "data": {
      "image/png": "[encoded data removed]",
      "text/plain": [
       "<Figure size 1440x720 with 1 Axes>"
      ]
     },
     "metadata": {
      "needs_background": "light"
     },
     "output_type": "display_data"
    }
   ],
   "source": [
    "fig, ax = plt.subplots(figsize =(20, 10))\n",
    "plt.plot(df_B2['t'], df_B2['B'])\n",
    "plt.xlabel('t')\n",
    "plt.ylabel('B')\n",
    "plt.title('Wykres struktury terminowej')\n",
    "plt.show()"
   ]
  },
  {
   "cell_type": "code",
   "execution_count": null,
   "id": "63c41c59",
   "metadata": {},
   "outputs": [],
   "source": []
  }
 ],
 "metadata": {
  "kernelspec": {
   "display_name": "Python 3",
   "language": "python",
   "name": "python3"
  },
  "language_info": {
   "codemirror_mode": {
    "name": "ipython",
    "version": 3
   },
   "file_extension": ".py",
   "mimetype": "text/x-python",
   "name": "python",
   "nbconvert_exporter": "python",
   "pygments_lexer": "ipython3",
   "version": "3.8.8"
  }
 },
 "nbformat": 4,
 "nbformat_minor": 5
}
